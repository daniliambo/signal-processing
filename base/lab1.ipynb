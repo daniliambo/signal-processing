{
 "cells": [
  {
   "cell_type": "markdown",
   "metadata": {
    "id": "7hYdOnEwjJVG"
   },
   "source": [
    "# <center> Практические задания по цифровой обработке сигналов </center>\n",
    "# <center> Первая лабораторная работа </center>\n"
   ]
  },
  {
   "cell_type": "markdown",
   "metadata": {
    "id": "rdyEgum5jJVL"
   },
   "source": [
    "В данной работе Вы познакомитесь с основными методами работы с аудиоданными в Python. Разбересь в том, как работает свертка, и примените пару интересных фильтров."
   ]
  },
  {
   "cell_type": "markdown",
   "metadata": {
    "id": "6XJFTkDRjJVM"
   },
   "source": [
    "# Задание 1. Работа с аудиофайлами в Python (1 балл)"
   ]
  },
  {
   "cell_type": "markdown",
   "metadata": {
    "id": "F6SsrCyQjJVN"
   },
   "source": [
    "## Теория\n",
    "\n",
    "Звук - это аналоговый сигнал. То есть он является непрерывным по времени и по значениям. Для того, чтобы работать со звуком на цифровом устройстве, надо преобразовать его в цифровое представление. Для этого надо разделить непрерывный сигнал на промежутки времени (дискретизация сигнала) и разбить непрерывные значения на интервалы (квантование сигнала). Выбраные параметры дискретизации и квантования сигнала напрямую влияют на качество цифрового сигнала. \n",
    "\n",
    "<!-- \n",
    "## Практика\n",
    "\n",
    "1. Что хранится в .wav файле? Как узнать параметры дискретизации и квантования .wav файла? \n",
    "\n",
    "2. Запишите аудиофайл со своим голосом. Загрузите его. Попробуйте поменять ему частоту дискретизации. Нарисуйте форму волны считанного файла. Воспроизведите полученные сигналы. При какой частоте дискретизации становится невозможно разобрать человеческую речь?   \n",
    "\n",
    "3. Чем .wav отличается от других кодеков, например .mp3 или .ogg? -->\n",
    "\n",
    "\n",
    "<!-- ### Подсказка\n",
    "\n",
    "Записать цифровой сигнал можно при помощи, например, [Audacity](https://www.audacityteam.org) или [Adobe Audition](https://www.adobe.com/ru/products/audition.html). Для считывания файлов воспользуйтесь библиотекой [scipy](https://www.scipy.org) или [librosa](https://librosa.org/doc/latest/index.html). Для воспроизведения аудиофайла удобно использовать класс Audio из модуля IPython.display, а для отрисовки - matplotlib. -->"
   ]
  },
  {
   "cell_type": "code",
   "execution_count": 154,
   "metadata": {
    "id": "-5RMctKfjJVO"
   },
   "outputs": [
    {
     "name": "stderr",
     "output_type": "stream",
     "text": [
      "UsageError: Line magic function `%` not found.\n"
     ]
    }
   ],
   "source": [
    "import matplotlib.pyplot as plt\n",
    "import numpy as np\n",
    "% matplotlib inline"
   ]
  },
  {
   "cell_type": "markdown",
   "metadata": {
    "id": "agxgEkZsjUcb"
   },
   "source": [
    "### 1. Что хранится в .wav файле? Как узнать параметры дискретизации и квантования .wav файла?"
   ]
  },
  {
   "cell_type": "code",
   "execution_count": null,
   "metadata": {
    "id": "SvgyfjvYjj_Y"
   },
   "outputs": [],
   "source": [
    "# YOUR ANSWER HERE\n",
    "import wave\n",
    "\n",
    "signal_path = '/Users/daniil/Desktop/DSP/Labs/base/resources_2/safari.wav'\n",
    "f = wave.open(signal_path, 'rb')\n",
    "fr = f.getframerate()\n",
    "f.getnframes()\n",
    "# f.getframerate()\n",
    "# f.getsampwidth()"
   ]
  },
  {
   "cell_type": "markdown",
   "metadata": {
    "id": "SR4-O3xxjeI6"
   },
   "source": [
    "### 2. Запишите аудиофайл со своим голосом. Загрузите его. Попробуйте поменять ему частоту дискретизации. Нарисуйте форму волны считанного файла. Воспроизведите полученные сигналы. При какой частоте дискретизации становится невозможно разобрать человеческую речь?"
   ]
  },
  {
   "cell_type": "markdown",
   "metadata": {
    "id": "a3MvhsVIkfQi"
   },
   "source": [
    "**Подсказка**\n",
    "\n",
    "Записать цифровой сигнал можно при помощи, например, [Audacity](https://www.audacityteam.org) или [Adobe Audition](https://www.adobe.com/ru/products/audition.html). Для считывания файлов воспользуйтесь библиотекой [scipy](https://www.scipy.org) или [librosa](https://librosa.org/doc/latest/index.html). Для воспроизведения аудиофайла удобно использовать класс Audio из модуля IPython.display, а для отрисовки - matplotlib."
   ]
  },
  {
   "cell_type": "code",
   "execution_count": null,
   "metadata": {
    "ExecuteTime": {
     "end_time": "2021-01-25T10:23:49.909497Z",
     "start_time": "2021-01-25T10:23:49.907091Z"
    },
    "id": "EH7njhvejJVP"
   },
   "outputs": [],
   "source": [
    "# YOUR ANSWER HERE\n",
    "import IPython.display as ipd\n",
    "import librosa.display\n",
    "import numpy as np\n",
    "import matplotlib.pyplot as plt\n",
    "import seaborn as sns"
   ]
  },
  {
   "cell_type": "markdown",
   "source": [
    "# Resample and display 3 examples"
   ],
   "metadata": {
    "collapsed": false
   }
  },
  {
   "cell_type": "code",
   "execution_count": null,
   "outputs": [],
   "source": [
    "y, sr = librosa.load(signal_path, sr=44100)\n",
    "sr_1 = 8000  # Telephone\n",
    "sr_2 = 2000\n",
    "sr_3 = 1000\n",
    "\n",
    "print(f'original sampling rate: {sr}')\n",
    "\n",
    "y_1 = librosa.resample(y, orig_sr=sr, target_sr=sr_1)\n",
    "y_2 = librosa.resample(y, orig_sr=sr, target_sr=sr_2)\n",
    "y_3 = librosa.resample(y, orig_sr=sr, target_sr=sr_3)\n",
    "\n",
    "fig, ax = plt.subplots(nrows=4, sharex=True, figsize=(10, 15))\n",
    "\n",
    "for i, (y_draw, sr_draw) in enumerate(zip([y, y_1, y_2, y_3], [sr, sr_1, sr_2, sr_3])):\n",
    "    librosa.display.waveshow(y_draw, sr=sr_draw, ax=ax[i])\n",
    "    ax[i].set_title(f'SAMPLING RATE: {sr_draw}')"
   ],
   "metadata": {
    "collapsed": false
   }
  },
  {
   "cell_type": "markdown",
   "metadata": {
    "id": "SShpe0Ivjpyq"
   },
   "source": [
    "### 3. Чем .wav отличается от других кодеков, например .mp3 или .ogg?"
   ]
  },
  {
   "cell_type": "code",
   "execution_count": null,
   "metadata": {
    "id": "Na_EHXwojsQs"
   },
   "outputs": [],
   "source": [
    "# YOUR ANSWER HERE\n",
    "# сжатием, хедерами"
   ]
  },
  {
   "cell_type": "markdown",
   "metadata": {
    "id": "_qddJL3SjJVQ"
   },
   "source": [
    "# Задание 2. Гармонические сигналы (1 балл)"
   ]
  },
  {
   "cell_type": "markdown",
   "metadata": {
    "id": "LVRP-2XbjJVR"
   },
   "source": [
    "## Теория\n",
    "[Гармонические колебания](https://ru.wikipedia.org/wiki/Гармонические_колебания) -  колебания, при которых физическая величина изменяется с течением времени по гармоническому (синусоидальному/косинусоидальному) закону. \n",
    "\n",
    "В общем случае гармонические колебания задаются формулой:\n",
    "\n",
    "$$y=A \\cos(\\omega t+\\varphi_0)$$\n",
    "\n",
    "где $А$ - это амплитуда, $\\omega$ – циклическая частота (радиан/с), $\\varphi$ - фаза (сдвиг), $t$ – время. \n"
   ]
  },
  {
   "cell_type": "code",
   "execution_count": null,
   "metadata": {
    "ExecuteTime": {
     "end_time": "2021-01-25T10:53:42.877034Z",
     "start_time": "2021-01-25T10:53:42.461660Z"
    },
    "id": "JNuWAeyijJVS"
   },
   "outputs": [],
   "source": [
    "# Сначала определим функцию для отрисовки сигнала с хорошим масштабом и сеткой\n",
    "# Это поможет легче анализировать сигнал\n",
    "def draw_signal(data, figsize=(14, 14)):\n",
    "    plt.figure(figsize=figsize)\n",
    "    plt.plot(data, linewidth=2)  # толщина Линии\n",
    "    plt.minorticks_on()\n",
    "    plt.xticks(np.arange(0, 1000, step=100))\n",
    "    plt.yticks(np.arange((data.min().round()) // 10 * 10,\n",
    "                         (data.max().round()) // 10 * 10 + 10, step=5))\n",
    "    plt.grid(which='major',\n",
    "             color='k',\n",
    "             linewidth=1)\n",
    "    plt.grid(which='minor',\n",
    "             color='k',\n",
    "             linestyle=':')\n",
    "    plt.show()"
   ]
  },
  {
   "cell_type": "code",
   "execution_count": null,
   "metadata": {
    "ExecuteTime": {
     "end_time": "2021-01-25T10:53:18.422257Z",
     "start_time": "2021-01-25T10:53:18.358676Z"
    },
    "id": "IEvhv6JSjJVT"
   },
   "outputs": [],
   "source": [
    "# Читаем данные с подготовленными сигналами\n",
    "import pickle\n",
    "\n",
    "with open(\"resources/data.pickle\", \"rb\") as f:\n",
    "    test_data = pickle.load(f)\n",
    "# Теперь можно приступать к практике!\n",
    "data_q = test_data['task2']['a']\n",
    "plt.figure(figsize=(14, 14))\n",
    "plt.minorticks_on()\n",
    "plt.plot(data_q)\n",
    "plt.xticks(np.arange(0, 1000, step=100))\n",
    "plt.yticks(data_q.min().round(), data_q.max().round, step=5)\n",
    "plt.show()"
   ]
  },
  {
   "cell_type": "markdown",
   "metadata": {
    "id": "cqBDWNQZjJVT"
   },
   "source": [
    "## Практика\n",
    "\n",
    "Постройте графики трех сигналов a, b и c из test_data['task2']. Попробуйте подобрать коэффициенты для этих сигналов. Сгенерируйте сигналы (1000 отсчетов) с подобранными коэффициентами. Постройте графики сгенерированных сигналов и пройдите тест на схожесть с оригинальным.\n",
    "\n",
    "\n",
    "Подсказка. Фаза, период и амплитуда сигнала - целочисленные. Для генерации пользуйтесь библиотекой numpy и функциями arange, sin, cos."
   ]
  },
  {
   "cell_type": "markdown",
   "metadata": {
    "id": "VJNRU07Bk572"
   },
   "source": [
    "### Сигнал ***a***"
   ]
  },
  {
   "cell_type": "code",
   "execution_count": null,
   "metadata": {
    "id": "52HUlapIjJVU"
   },
   "outputs": [],
   "source": [
    "draw_signal(test_data['task2']['a'])"
   ]
  },
  {
   "cell_type": "code",
   "execution_count": null,
   "metadata": {
    "id": "31S2B1uqjJVU"
   },
   "outputs": [],
   "source": [
    "# YOUR CODE HERE\n",
    "A = 45\n",
    "w = 1 / 425\n",
    "phi = 0\n",
    "a = np.asarray([A * np.cos(2 * np.pi * w * x) + phi for x in range(1000)])"
   ]
  },
  {
   "cell_type": "code",
   "execution_count": null,
   "metadata": {
    "id": "MMdA-lbUjJVU"
   },
   "outputs": [],
   "source": [
    "draw_signal(a)"
   ]
  },
  {
   "cell_type": "code",
   "execution_count": null,
   "metadata": {
    "id": "AmG42RRujJVU"
   },
   "outputs": [],
   "source": [
    "assert len(a) == 1000\n",
    "assert np.allclose(a, test_data[\"task2\"][\"a\"], atol=1)\n",
    "print(\"Ok!\")"
   ]
  },
  {
   "cell_type": "markdown",
   "metadata": {
    "id": "LQEbk57zlHqi"
   },
   "source": [
    "**Подобранные коэффициенты для сигнала 'a':**\n",
    "\n",
    "1. Амплитуда - $A= $\n",
    "\n",
    "2. Угловая частота ($ \\displaystyle\\omega =\\frac{2\\pi}{T}) = $\n",
    "\n",
    "3. Фаза - $\\phi= $"
   ]
  },
  {
   "cell_type": "markdown",
   "metadata": {
    "id": "-6qPslUclBmo"
   },
   "source": [
    "### Сигнал ***b***"
   ]
  },
  {
   "cell_type": "code",
   "execution_count": null,
   "metadata": {
    "id": "4eptNt05jJVV"
   },
   "outputs": [],
   "source": [
    "draw_signal(test_data['task2']['b'])\n",
    "data = test_data['task2']['b']"
   ]
  },
  {
   "cell_type": "code",
   "execution_count": 155,
   "outputs": [
    {
     "name": "stdout",
     "output_type": "stream",
     "text": [
      "1000\n",
      "50.0\n"
     ]
    },
    {
     "data": {
      "text/plain": "25"
     },
     "execution_count": 155,
     "metadata": {},
     "output_type": "execute_result"
    }
   ],
   "source": [
    "data = test_data['task2']['b']\n",
    "print(len(data))\n",
    "# print(data)\n",
    "print(data.max())\n",
    "data = list(data)\n",
    "data.index(max(data))"
   ],
   "metadata": {
    "collapsed": false
   }
  },
  {
   "cell_type": "code",
   "execution_count": 175,
   "metadata": {
    "id": "vaidO0wojJVV"
   },
   "outputs": [],
   "source": [
    "# YOUR CODE HERE\n",
    "A = 50\n",
    "w = 1 / 100\n",
    "phi = 0\n",
    "b = np.asarray([A * np.sin(2 * np.pi * w * x) + phi for x in range(1000)])"
   ]
  },
  {
   "cell_type": "code",
   "execution_count": 177,
   "metadata": {
    "id": "jF3UhfxWllkE"
   },
   "outputs": [
    {
     "data": {
      "text/plain": "<Figure size 720x576 with 1 Axes>",
      "image/png": "[encoded data removed]"
     },
     "metadata": {
      "needs_background": "light"
     },
     "output_type": "display_data"
    }
   ],
   "source": [
    "# draw_signal(test_data['task2']['b'])\n",
    "# draw_signal(b)\n",
    "b_ = test_data['task2']['b']\n",
    "plt.figure(figsize=(10, 8))\n",
    "plt.minorticks_on()\n",
    "plt.xticks(np.arange(0, 1000, step=100))\n",
    "plt.yticks(np.arange((min(data).round()) // 10 * 10,\n",
    "                     (max(data).round()) // 10 * 10 + 10, step=5))\n",
    "plt.plot(b_)\n",
    "plt.plot(b)\n",
    "plt.show()\n",
    "# draw_signal(b)\n",
    "# draw_signal(test_data['task2']['b'])"
   ]
  },
  {
   "cell_type": "code",
   "execution_count": 178,
   "metadata": {
    "id": "8wI1WHqLjJVV"
   },
   "outputs": [
    {
     "name": "stdout",
     "output_type": "stream",
     "text": [
      "Ok!\n"
     ]
    }
   ],
   "source": [
    "assert len(b) == 1000\n",
    "assert np.allclose(b, test_data[\"task2\"][\"b\"], atol=1)\n",
    "print(\"Ok!\")"
   ]
  },
  {
   "cell_type": "markdown",
   "metadata": {
    "id": "w2S76chkld_a"
   },
   "source": [
    "**Подобранные коэффициенты для сигнала 'b':**\n",
    "\n",
    "1. Амплитуда - $A= $\n",
    "\n",
    "2. Угловая частота ($ \\displaystyle\\omega =\\frac{2\\pi}{T}) = $\n",
    "\n",
    "3. Фаза - $\\phi= $"
   ]
  },
  {
   "cell_type": "markdown",
   "metadata": {
    "id": "UM1BX9e7lrj6"
   },
   "source": [
    "### Сигнал ***c***"
   ]
  },
  {
   "cell_type": "code",
   "execution_count": null,
   "metadata": {
    "id": "QgjGfOFzjJVW"
   },
   "outputs": [],
   "source": [
    "draw_signal(test_data['task2']['c'])"
   ]
  },
  {
   "cell_type": "code",
   "execution_count": 181,
   "metadata": {
    "id": "RwpM7lPnjJVW"
   },
   "outputs": [],
   "source": [
    "# сигнал состоит из двух гармоник\n",
    "# YOUR CODE HERE\n",
    "c = a - b"
   ]
  },
  {
   "cell_type": "code",
   "execution_count": 182,
   "metadata": {
    "id": "Fwg_TXwwjJVX"
   },
   "outputs": [
    {
     "name": "stdout",
     "output_type": "stream",
     "text": [
      "Ok!\n"
     ]
    }
   ],
   "source": [
    "assert len(c) == 1000\n",
    "assert np.allclose(c, test_data[\"task2\"][\"c\"], atol=1)\n",
    "print(\"Ok!\")"
   ]
  },
  {
   "cell_type": "markdown",
   "metadata": {
    "id": "na5s-M4ijJVX"
   },
   "source": [
    "# Задание 3. Свертка (3 балла)"
   ]
  },
  {
   "cell_type": "markdown",
   "metadata": {
    "id": "slFLBa1DjJVX"
   },
   "source": [
    "## Теория\n",
    "Одна из наиболее частых операций, которая выполняется при обработке сигналов, это свёртка. Свёртка имеет много различных применений, например, с ее помощью можно убрать из сигнала шумы или применить к сигналу эффект эхо.\n",
    "\n",
    "\n",
    "Свёртка — это математическая операция, применённая к двум функциям f и g и порождающая третью функцию. Операцию свёртки можно интерпретировать как «схожесть» одной функции с отражённой и сдвинутой копией другой.  Другими словами, преобразование свёртки однозначно определяет выходной сигнал y(t) для установленного значения входного сигнала x(t) при известном значении функции импульсного отклика системы h(t).\n",
    "\n",
    "<!-- ![Convolution](resources/Convolution_of_box_signal_with_itself2.gif \"Convolution\") -->\n",
    "![Convolution](resources/Convolution_of_box_signal_with_itself2.gif \"Convolution\")\n",
    "\n",
    "Формула свёртки:\n",
    "$$y_t=\\frac{1}{2} \\int_0^T x(\\tau)h(t-τ)dτ$$\n",
    "где $\\tau$  - длительность импульсной переходной характеристики.\n",
    "\n",
    "## Практика\n",
    "Реализуйте операцию свёртки. Сравните её с существующей реализацией scipy.signal.convolve. Постройте графики фильтра, исходного сигнала и результата свертки."
   ]
  },
  {
   "cell_type": "code",
   "execution_count": 222,
   "outputs": [
    {
     "name": "stdout",
     "output_type": "stream",
     "text": [
      "7\n",
      "1 2 3 0 0 0 0\n",
      "            0 0 8 7 6 5 4\n",
      "[1, 2, 3, 0, 0, 0, 0]\n",
      "[0, 0, 8, 7, 6, 5, 4]\n"
     ]
    }
   ],
   "source": [
    "# пока что не мой уровень :(\n",
    "\n",
    "# input\n",
    "a = [1, 2, 3]\n",
    "b = [4, 5, 6, 7, 8]\n",
    "N = len(a) + len(b) - 1\n",
    "print(N)\n",
    "\n",
    "# transform\n",
    "a.extend(np.zeros(N - len(a), dtype=int))\n",
    "b.extend(np.zeros(N - len(b), dtype=int))\n",
    "b = b[::-1]\n",
    "\n",
    "# visualize\n",
    "sa = ' '.join(list(map(str, a)))\n",
    "sb = ' '.join(list(map(str, b)))\n",
    "print('' + sa)\n",
    "print('            ' + sb)\n",
    "print(a, b, sep='\\n')\n",
    "for i in range(N):\n",
    "    np.dot(a[:i])"
   ],
   "metadata": {
    "collapsed": false
   }
  },
  {
   "cell_type": "code",
   "execution_count": 232,
   "outputs": [
    {
     "name": "stdout",
     "output_type": "stream",
     "text": [
      "20 10\n"
     ]
    }
   ],
   "source": [
    "a = 10\n",
    "b = 20\n",
    "if a < b: a, b = b, a\n",
    "print(a, b)"
   ],
   "metadata": {
    "collapsed": false
   }
  },
  {
   "cell_type": "code",
   "execution_count": 240,
   "outputs": [
    {
     "name": "stdout",
     "output_type": "stream",
     "text": [
      "[ 4. 13. 16. 19. 14.  0.  0.]\n"
     ]
    },
    {
     "data": {
      "text/plain": "[4, 13, 28, 34, 40, 37, 24]"
     },
     "execution_count": 240,
     "metadata": {},
     "output_type": "execute_result"
    }
   ],
   "source": [
    "a = [1, 2, 3]\n",
    "b = [4, 5, 6, 7, 8]\n",
    "\n",
    "list(np.convolve(a, b))"
   ],
   "metadata": {
    "collapsed": false
   }
  },
  {
   "cell_type": "code",
   "execution_count": 242,
   "outputs": [],
   "source": [
    "def convolve(in1, in2):\n",
    "    return np.convolve(in1, in2)\n",
    "\n",
    "#YOUR CODE HERE"
   ],
   "metadata": {
    "collapsed": false
   }
  },
  {
   "cell_type": "code",
   "execution_count": 248,
   "metadata": {
    "id": "8B6P8pAtjJVY"
   },
   "outputs": [],
   "source": [
    "import scipy\n",
    "\n",
    "def test_convolve(a, b, print_debug=False):\n",
    "    my_result = convolve(a, b)\n",
    "    scipy_result = scipy.signal.convolve(a, b, method='direct')\n",
    "    if print_debug:\n",
    "        print(f\"Your result {my_result}\")\n",
    "        print(f\"Scipy result {scipy_result}\")\n",
    "    assert np.allclose(my_result, scipy_result), f\"Test {a} conv {b} failed\"\n",
    "    print(\"Ok!\")"
   ]
  },
  {
   "cell_type": "code",
   "execution_count": 249,
   "metadata": {
    "id": "1khvOTwhjJVY"
   },
   "outputs": [],
   "source": [
    "a = np.repeat([0, 1, 0], 10)\n",
    "b = np.array([0, 1, 2, 3, 2, 1, 0])"
   ]
  },
  {
   "cell_type": "code",
   "execution_count": 250,
   "metadata": {
    "id": "GxYDABzpjJVa"
   },
   "outputs": [
    {
     "name": "stdout",
     "output_type": "stream",
     "text": [
      "Ok!\n"
     ]
    }
   ],
   "source": [
    "test_convolve(a, b, print_debug=False)"
   ]
  },
  {
   "cell_type": "markdown",
   "metadata": {
    "id": "9ofXqGB_mVMK"
   },
   "source": [
    "### Нарисуйте результат свертки a и b"
   ]
  },
  {
   "cell_type": "markdown",
   "metadata": {
    "id": "1vMjr5KOmZEA"
   },
   "source": [
    "Сигнал **а**"
   ]
  },
  {
   "cell_type": "code",
   "execution_count": 251,
   "metadata": {
    "id": "fSFFYzI0mb4R"
   },
   "outputs": [
    {
     "data": {
      "text/plain": "[<matplotlib.lines.Line2D at 0x29b0c3370>]"
     },
     "execution_count": 251,
     "metadata": {},
     "output_type": "execute_result"
    },
    {
     "data": {
      "text/plain": "<Figure size 432x288 with 1 Axes>",
      "image/png": "[encoded data removed]"
     },
     "metadata": {
      "needs_background": "light"
     },
     "output_type": "display_data"
    }
   ],
   "source": [
    "# YOUR CODE HERE\n",
    "plt.plot(a)"
   ]
  },
  {
   "cell_type": "markdown",
   "metadata": {
    "id": "N-G9XZmAmeHH"
   },
   "source": [
    "Сигнал **b**"
   ]
  },
  {
   "cell_type": "code",
   "execution_count": 255,
   "metadata": {
    "id": "GCImaL0emfNE"
   },
   "outputs": [
    {
     "data": {
      "text/plain": "[<matplotlib.lines.Line2D at 0x29b63ff40>]"
     },
     "execution_count": 255,
     "metadata": {},
     "output_type": "execute_result"
    },
    {
     "data": {
      "text/plain": "<Figure size 432x288 with 1 Axes>",
      "image/png": "[encoded data removed]"
     },
     "metadata": {
      "needs_background": "light"
     },
     "output_type": "display_data"
    }
   ],
   "source": [
    "# YOUR CODE HERE\n",
    "plt.plot(a)"
   ]
  },
  {
   "cell_type": "markdown",
   "metadata": {
    "id": "-AMtXMSAmfqB"
   },
   "source": [
    "Свертка **a** и **b**"
   ]
  },
  {
   "cell_type": "code",
   "execution_count": 256,
   "metadata": {
    "id": "Bp7QkUkCmioG"
   },
   "outputs": [
    {
     "data": {
      "text/plain": "[<matplotlib.lines.Line2D at 0x29a944370>]"
     },
     "execution_count": 256,
     "metadata": {},
     "output_type": "execute_result"
    },
    {
     "data": {
      "text/plain": "<Figure size 432x288 with 1 Axes>",
      "image/png": "[encoded data removed]"
     },
     "metadata": {
      "needs_background": "light"
     },
     "output_type": "display_data"
    }
   ],
   "source": [
    "# YOUR CODE HERE\n",
    "plt.plot(convolve(a, b))"
   ]
  },
  {
   "cell_type": "markdown",
   "metadata": {
    "id": "QXCjOpUGmtIk"
   },
   "source": [
    "Все 3 графика на одной картинке:"
   ]
  },
  {
   "cell_type": "code",
   "execution_count": 257,
   "metadata": {
    "id": "9T55MbT_muWc"
   },
   "outputs": [
    {
     "data": {
      "text/plain": "<Figure size 432x288 with 1 Axes>",
      "image/png": "[encoded data removed]"
     },
     "metadata": {
      "needs_background": "light"
     },
     "output_type": "display_data"
    }
   ],
   "source": [
    "# YOUR CODE HERE\n",
    "plt.plot(a)\n",
    "plt.plot(b)\n",
    "plt.plot(convolve(a, b))\n",
    "plt.show()"
   ]
  },
  {
   "cell_type": "markdown",
   "metadata": {
    "id": "gupU8FrRjJVa"
   },
   "source": [
    "# Задание 4. * Алгоритм Карплуса-Стронга \n",
    "\n",
    "Реализуйте  [Алгоритм Карплуса-Стронга](https://en.wikipedia.org/wiki/Karplus%E2%80%93Strong_string_synthesis). В качестве фильтра используйте усреднитель двух смежных отсчетов. Проверьте результат. \n",
    "\n",
    "Отрисуйте и воспроизведите полученный сигнал. На что влияют параметры генерации? Попробуйте имитировать звучание разных струн гитары."
   ]
  },
  {
   "cell_type": "code",
   "execution_count": null,
   "metadata": {
    "ExecuteTime": {
     "end_time": "2021-01-25T08:33:08.782753Z",
     "start_time": "2021-01-25T08:33:08.777957Z"
    },
    "id": "o20iJGhOjJVa"
   },
   "outputs": [],
   "source": [
    "def karplus_strong(noise, N):\n",
    "    # Noise - input\n",
    "    # N - number of samples to generate\n",
    "    # return y - generated signal based on Noise \n",
    "    # YOUR CODE HERE\n",
    "\n",
    "    raise NotImplementedError()"
   ]
  },
  {
   "cell_type": "code",
   "execution_count": null,
   "metadata": {
    "ExecuteTime": {
     "end_time": "2021-01-25T10:07:15.153526Z",
     "start_time": "2021-01-25T10:07:15.052187Z"
    },
    "id": "3WVOV59_jJVa"
   },
   "outputs": [],
   "source": [
    "np.random.seed(seed=1)\n",
    "sample_rate = 44100\n",
    "frequency = 82.41\n",
    "sec = 2\n",
    "gen_len = sample_rate * sec\n",
    "noise = (2 * np.random.uniform(-1, 1, int(sample_rate / frequency)))  # [-1, 1]\n",
    "\n",
    "gen_wav = karplus_strong(noise, gen_len)\n",
    "assert np.allclose(gen_wav[:len(noise)], noise), \"Generated signal must starting with noise\"\n",
    "assert np.allclose(gen_wav[len(noise)], (noise[0]) / 2), \"Out of range samples eq 0.\"\n",
    "assert np.allclose(gen_wav[len(noise) + 1: 2 * len(noise)],\n",
    "                   (noise[:-1] + noise[1:]) / 2), \"Bad requrent rule( 1 iteration)\"\n",
    "assert np.allclose(gen_wav[2 * len(noise)], (noise[0] / 2 + noise[-1]) / 2), \"Bad requrent rule( 2 iteration)\"\n",
    "assert np.allclose(gen_wav[2 * len(noise) + 2: 3 * len(noise)], (\n",
    "        ((noise[:-1] + noise[1:]) / 2)[:-1] + ((noise[:-1] + noise[1:]) / 2)[\n",
    "                                              1:]) / 2), \"Bad requrent rule( 3 iteration)\"\n",
    "print('All Ok!')"
   ]
  },
  {
   "cell_type": "markdown",
   "metadata": {
    "id": "c8-zZZMQnU1k"
   },
   "source": [
    "### Попробуем покрутить параметры генерации"
   ]
  },
  {
   "cell_type": "markdown",
   "metadata": {
    "id": "0PpLnhfnnfKi"
   },
   "source": [
    "Сгенерируем гитарные ноты:"
   ]
  },
  {
   "cell_type": "code",
   "execution_count": null,
   "metadata": {
    "id": "24eNznwtjJVb"
   },
   "outputs": [],
   "source": [
    "# YOUR CODE HERE"
   ]
  },
  {
   "cell_type": "markdown",
   "metadata": {
    "id": "3iAhlgUXnoXh"
   },
   "source": [
    "Визуализируем затухание амплитуды:"
   ]
  },
  {
   "cell_type": "code",
   "execution_count": null,
   "metadata": {
    "id": "Ky2eym23nq0n"
   },
   "outputs": [],
   "source": [
    "plt.figure(figsize=(10, 5))\n",
    "plt.xlabel('n', fontsize=14)\n",
    "plt.ylabel('Амплитуда', fontsize=14)\n",
    "plt.xlim(0, gen_len)\n",
    "plt.plot(np.linspace(0, gen_len + 1, gen_len), gen_wav)\n",
    "plt.tick_params(axis='both', which='major', labelsize=14)\n",
    "plt.grid()"
   ]
  },
  {
   "cell_type": "markdown",
   "metadata": {
    "id": "TlTng42knwVA"
   },
   "source": [
    "Визуализируйте затухание амплитуд гитарных нот:"
   ]
  },
  {
   "cell_type": "code",
   "execution_count": null,
   "metadata": {
    "id": "jHGtsvDEn5OG"
   },
   "outputs": [],
   "source": [
    "# YOUR CODE HERE"
   ]
  }
 ],
 "metadata": {
  "colab": {
   "collapsed_sections": [],
   "name": "lab1.ipynb",
   "provenance": []
  },
  "kernelspec": {
   "display_name": "Python 3 (ipykernel)",
   "language": "python",
   "name": "python3"
  },
  "language_info": {
   "codemirror_mode": {
    "name": "ipython",
    "version": 3
   },
   "file_extension": ".py",
   "mimetype": "text/x-python",
   "name": "python",
   "nbconvert_exporter": "python",
   "pygments_lexer": "ipython3",
   "version": "3.9.7"
  }
 },
 "nbformat": 4,
 "nbformat_minor": 1
}
